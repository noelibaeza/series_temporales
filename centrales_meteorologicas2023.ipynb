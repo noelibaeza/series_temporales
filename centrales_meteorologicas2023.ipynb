{
 "cells": [
  {
   "cell_type": "code",
   "execution_count": 1,
   "metadata": {},
   "outputs": [],
   "source": [
    "import pandas as pd\n",
    "import numpy as np\n",
    "import matplotlib.pyplot as plt"
   ]
  },
  {
   "cell_type": "code",
   "execution_count": 4,
   "metadata": {},
   "outputs": [],
   "source": [
    "\n",
    "# Leer el archivo Excel\n",
    "file_path = './data/registros_2023.xlsx'\n",
    "excel_file = pd.ExcelFile(file_path)\n",
    "\n",
    "# Crear un DataFrame vacío para almacenar los datos combinados\n",
    "df_combined = pd.DataFrame()\n",
    "\n",
    "# Iterar sobre cada hoja del archivo Excel\n",
    "for sheet_name in excel_file.sheet_names:\n",
    "    # Leer cada hoja en un DataFrame temporal, seleccionando solo las dos primeras columnas y saltando las primeras 5 filas\n",
    "    df_temp = pd.read_excel(file_path, sheet_name=sheet_name, usecols=[0, 1], skiprows=5)\n",
    "    \n",
    "    # Renombrar las columnas: la primera columna es la fecha y la segunda columna es la temperatura\n",
    "    df_temp.columns = ['Fecha', sheet_name]\n",
    "    \n",
    "    # Si el DataFrame combinado está vacío, inicializarlo con los datos de la primera hoja\n",
    "    if df_combined.empty:\n",
    "        df_combined = df_temp\n",
    "    else:\n",
    "        # Unir los DataFrames temporales en el DataFrame combinado\n",
    "        df_combined = pd.merge(df_combined, df_temp, on='Fecha', how='outer')\n",
    "\n",
    "# Guardar el DataFrame combinado en un nuevo archivo Excel\n",
    "df_combined.to_excel('./data/archivo_combinado.xlsx', index=False)"
   ]
  },
  {
   "cell_type": "code",
   "execution_count": 9,
   "metadata": {},
   "outputs": [],
   "source": [
    "# Poner como index la columna de fechas\n",
    "df_combined.set_index('Fecha', inplace=True)\n"
   ]
  },
  {
   "cell_type": "code",
   "execution_count": 10,
   "metadata": {},
   "outputs": [
    {
     "data": {
      "text/html": [
       "<div>\n",
       "<style scoped>\n",
       "    .dataframe tbody tr th:only-of-type {\n",
       "        vertical-align: middle;\n",
       "    }\n",
       "\n",
       "    .dataframe tbody tr th {\n",
       "        vertical-align: top;\n",
       "    }\n",
       "\n",
       "    .dataframe thead th {\n",
       "        text-align: right;\n",
       "    }\n",
       "</style>\n",
       "<table border=\"1\" class=\"dataframe\">\n",
       "  <thead>\n",
       "    <tr style=\"text-align: right;\">\n",
       "      <th></th>\n",
       "      <th>Cerrito_1</th>\n",
       "      <th>Colonia Celina_2</th>\n",
       "      <th>Hasenkamp_3</th>\n",
       "      <th>Hernandarias_4</th>\n",
       "      <th>María Grande_5</th>\n",
       "      <th>Oro Verde_6</th>\n",
       "      <th>Oro Verde Vieja_7</th>\n",
       "      <th>Paraná_8</th>\n",
       "      <th>Paso de la Arena_9</th>\n",
       "      <th>Viale_10</th>\n",
       "    </tr>\n",
       "    <tr>\n",
       "      <th>Fecha</th>\n",
       "      <th></th>\n",
       "      <th></th>\n",
       "      <th></th>\n",
       "      <th></th>\n",
       "      <th></th>\n",
       "      <th></th>\n",
       "      <th></th>\n",
       "      <th></th>\n",
       "      <th></th>\n",
       "      <th></th>\n",
       "    </tr>\n",
       "  </thead>\n",
       "  <tbody>\n",
       "    <tr>\n",
       "      <th>15-04-2023 00:00</th>\n",
       "      <td>14.4</td>\n",
       "      <td>14.3</td>\n",
       "      <td>14.3</td>\n",
       "      <td>15.6</td>\n",
       "      <td>NaN</td>\n",
       "      <td>NaN</td>\n",
       "      <td>NaN</td>\n",
       "      <td>13.9</td>\n",
       "      <td>15.0</td>\n",
       "      <td>NaN</td>\n",
       "    </tr>\n",
       "    <tr>\n",
       "      <th>15-04-2023 00:10</th>\n",
       "      <td>14.2</td>\n",
       "      <td>14.2</td>\n",
       "      <td>14.3</td>\n",
       "      <td>15.5</td>\n",
       "      <td>NaN</td>\n",
       "      <td>NaN</td>\n",
       "      <td>NaN</td>\n",
       "      <td>13.5</td>\n",
       "      <td>14.9</td>\n",
       "      <td>NaN</td>\n",
       "    </tr>\n",
       "    <tr>\n",
       "      <th>15-04-2023 00:20</th>\n",
       "      <td>13.9</td>\n",
       "      <td>14.0</td>\n",
       "      <td>14.3</td>\n",
       "      <td>15.3</td>\n",
       "      <td>NaN</td>\n",
       "      <td>NaN</td>\n",
       "      <td>NaN</td>\n",
       "      <td>13.2</td>\n",
       "      <td>14.7</td>\n",
       "      <td>NaN</td>\n",
       "    </tr>\n",
       "    <tr>\n",
       "      <th>15-04-2023 00:30</th>\n",
       "      <td>13.7</td>\n",
       "      <td>13.9</td>\n",
       "      <td>14.4</td>\n",
       "      <td>15.1</td>\n",
       "      <td>NaN</td>\n",
       "      <td>NaN</td>\n",
       "      <td>NaN</td>\n",
       "      <td>12.9</td>\n",
       "      <td>14.4</td>\n",
       "      <td>NaN</td>\n",
       "    </tr>\n",
       "    <tr>\n",
       "      <th>15-04-2023 00:40</th>\n",
       "      <td>13.5</td>\n",
       "      <td>13.9</td>\n",
       "      <td>14.4</td>\n",
       "      <td>15.2</td>\n",
       "      <td>NaN</td>\n",
       "      <td>NaN</td>\n",
       "      <td>NaN</td>\n",
       "      <td>12.9</td>\n",
       "      <td>14.1</td>\n",
       "      <td>NaN</td>\n",
       "    </tr>\n",
       "  </tbody>\n",
       "</table>\n",
       "</div>"
      ],
      "text/plain": [
       "                  Cerrito_1  Colonia Celina_2  Hasenkamp_3  Hernandarias_4  \\\n",
       "Fecha                                                                        \n",
       "15-04-2023 00:00       14.4              14.3         14.3            15.6   \n",
       "15-04-2023 00:10       14.2              14.2         14.3            15.5   \n",
       "15-04-2023 00:20       13.9              14.0         14.3            15.3   \n",
       "15-04-2023 00:30       13.7              13.9         14.4            15.1   \n",
       "15-04-2023 00:40       13.5              13.9         14.4            15.2   \n",
       "\n",
       "                 María Grande_5 Oro Verde_6  Oro Verde Vieja_7  Paraná_8  \\\n",
       "Fecha                                                                      \n",
       "15-04-2023 00:00            NaN         NaN                NaN      13.9   \n",
       "15-04-2023 00:10            NaN         NaN                NaN      13.5   \n",
       "15-04-2023 00:20            NaN         NaN                NaN      13.2   \n",
       "15-04-2023 00:30            NaN         NaN                NaN      12.9   \n",
       "15-04-2023 00:40            NaN         NaN                NaN      12.9   \n",
       "\n",
       "                  Paso de la Arena_9 Viale_10  \n",
       "Fecha                                          \n",
       "15-04-2023 00:00                15.0      NaN  \n",
       "15-04-2023 00:10                14.9      NaN  \n",
       "15-04-2023 00:20                14.7      NaN  \n",
       "15-04-2023 00:30                14.4      NaN  \n",
       "15-04-2023 00:40                14.1      NaN  "
      ]
     },
     "execution_count": 10,
     "metadata": {},
     "output_type": "execute_result"
    }
   ],
   "source": [
    "df_combined.head()"
   ]
  },
  {
   "cell_type": "code",
   "execution_count": 11,
   "metadata": {},
   "outputs": [
    {
     "data": {
      "text/plain": [
       "(21932, 10)"
      ]
     },
     "execution_count": 11,
     "metadata": {},
     "output_type": "execute_result"
    }
   ],
   "source": [
    "df_combined.shape"
   ]
  }
 ],
 "metadata": {
  "kernelspec": {
   "display_name": "BDESPACIAL",
   "language": "python",
   "name": "python3"
  },
  "language_info": {
   "codemirror_mode": {
    "name": "ipython",
    "version": 3
   },
   "file_extension": ".py",
   "mimetype": "text/x-python",
   "name": "python",
   "nbconvert_exporter": "python",
   "pygments_lexer": "ipython3",
   "version": "3.12.1"
  }
 },
 "nbformat": 4,
 "nbformat_minor": 2
}
